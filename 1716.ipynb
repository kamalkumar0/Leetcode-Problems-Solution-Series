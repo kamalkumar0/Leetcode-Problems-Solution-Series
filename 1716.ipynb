{
  "nbformat": 4,
  "nbformat_minor": 0,
  "metadata": {
    "colab": {
      "provenance": []
    },
    "kernelspec": {
      "name": "python3",
      "display_name": "Python 3"
    },
    "language_info": {
      "name": "python"
    }
  },
  "cells": [
    {
      "cell_type": "markdown",
      "source": [
        "Calculate Money in Leetcode Bank date : 25/10/2025\n"
      ],
      "metadata": {
        "id": "oF_d-nFaMdKg"
      }
    },
    {
      "cell_type": "code",
      "execution_count": 9,
      "metadata": {
        "colab": {
          "base_uri": "https://localhost:8080/"
        },
        "id": "6UvngycuMXMc",
        "outputId": "91364155-de25-4ade-febd-e7604a5939bb"
      },
      "outputs": [
        {
          "output_type": "stream",
          "name": "stdout",
          "text": [
            "525\n"
          ]
        }
      ],
      "source": [
        "class Solution:\n",
        "    def totalMoney(self, n: int) -> int:\n",
        "        total = 0\n",
        "        weeks, days = divmod(n, 7)\n",
        "\n",
        "        # full weeks ka sum\n",
        "        for w in range(weeks):\n",
        "            total += 7 * (w + 1) + 21   # (1+2+...+6) = 21\n",
        "\n",
        "        # remaining days ka sum\n",
        "        for d in range(days):\n",
        "            total += (weeks + 1) + d\n",
        "\n",
        "        return total\n",
        "\n",
        "kamal = Solution()\n",
        "print(kamal.totalMoney(65))"
      ]
    }
  ]
}